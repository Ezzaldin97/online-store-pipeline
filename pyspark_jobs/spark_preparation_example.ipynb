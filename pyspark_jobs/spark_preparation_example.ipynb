{
 "cells": [
  {
   "cell_type": "code",
   "execution_count": 1,
   "id": "1a07e5f0",
   "metadata": {},
   "outputs": [],
   "source": [
    "import pyspark\n",
    "from pyspark.sql import SparkSession\n",
    "from pyspark.conf import SparkConf\n",
    "from pyspark.context import SparkContext\n",
    "import warnings\n",
    "from pyspark.sql.types import StructField, StructType, IntegerType, DateType, StringType, TimestampType, DoubleType, LongType\n",
    "import pyspark.sql.functions as F\n",
    "from pyspark.sql import DataFrame as SparkDataFrame\n",
    "from datetime import datetime\n",
    "import random\n",
    "warnings.filterwarnings(\"ignore\")"
   ]
  },
  {
   "cell_type": "code",
   "execution_count": 2,
   "id": "208d1226",
   "metadata": {},
   "outputs": [
    {
     "name": "stdout",
     "output_type": "stream",
     "text": [
      "23/04/02 20:42:20 WARN NativeCodeLoader: Unable to load native-hadoop library for your platform... using builtin-java classes where applicable\n"
     ]
    },
    {
     "name": "stderr",
     "output_type": "stream",
     "text": [
      "Setting default log level to \"WARN\".\n",
      "To adjust logging level use sc.setLogLevel(newLevel). For SparkR, use setLogLevel(newLevel).\n"
     ]
    }
   ],
   "source": [
    "# connecting to GCS\n",
    "credentials_loc = \"/home/ezzaldin/.gc/online-store-382421-413f8a966a1f.json\"\n",
    "conf = SparkConf().setMaster(\"local[*]\").setAppName(\"test\")\\\n",
    "                  .set(\"spark.jars\", \"/home/ezzaldin/lib/gcs-connector-hadoop3-2.2.5.jar\")\\\n",
    "                  .set(\"spark.hadoop.google.cloud.auth.service.account.enable\", \"true\") \\\n",
    "                  .set(\"spark.hadoop.google.cloud.auth.service.account.json.keyfile\", credentials_loc)\n",
    "sc = SparkContext(conf = conf)\n",
    "hadoop_conf = sc._jsc.hadoopConfiguration()\n",
    "hadoop_conf.set(\"fs.AbstractFileSystem.gs.impl\",  \"com.google.cloud.hadoop.fs.gcs.GoogleHadoopFS\")\n",
    "hadoop_conf.set(\"fs.gs.impl\", \"com.google.cloud.hadoop.fs.gcs.GoogleHadoopFileSystem\")\n",
    "hadoop_conf.set(\"fs.gs.auth.service.account.json.keyfile\", credentials_loc)\n",
    "hadoop_conf.set(\"fs.gs.auth.service.account.enable\", \"true\")\n",
    "spark = SparkSession.builder.config(conf=sc.getConf()).getOrCreate()"
   ]
  },
  {
   "cell_type": "code",
   "execution_count": 3,
   "id": "29111a44",
   "metadata": {},
   "outputs": [
    {
     "name": "stderr",
     "output_type": "stream",
     "text": [
      "                                                                                \r"
     ]
    }
   ],
   "source": [
    "date_str_formula = datetime.now().strftime(\"%Y%m%d\")\n",
    "orders = spark.read.option(\"header\", \"true\").parquet(f\"gs://store_data_lake_online-store-382421/raw/orders{date_str_formula}.parquet.snappy\")\n",
    "customers = spark.read.option(\"header\", \"true\").parquet(f\"gs://store_data_lake_online-store-382421/raw/customers{date_str_formula}.parquet.snappy\")\n",
    "items = spark.read.option(\"header\", \"true\").parquet(f\"gs://store_data_lake_online-store-382421/raw/items{date_str_formula}.parquet.snappy\")"
   ]
  },
  {
   "cell_type": "code",
   "execution_count": 4,
   "id": "2d231efe",
   "metadata": {},
   "outputs": [
    {
     "name": "stderr",
     "output_type": "stream",
     "text": [
      "\r",
      "[Stage 3:>                                                          (0 + 1) / 1]\r"
     ]
    },
    {
     "name": "stdout",
     "output_type": "stream",
     "text": [
      "+-----------+-------+----------+\n",
      "|customer_id|   item|created_at|\n",
      "+-----------+-------+----------+\n",
      "|     422152|weights|2023-03-31|\n",
      "|     514911|   bags|2023-03-30|\n",
      "|     469441| laptop|2023-03-30|\n",
      "|     110382| laptop|2023-03-30|\n",
      "|     246744|   food|2023-03-30|\n",
      "|     845726|weights|2023-03-30|\n",
      "|     431718|   bags|2023-03-30|\n",
      "|     561885|  chair|2023-03-31|\n",
      "|     402350| laptop|2023-03-31|\n",
      "|     537215|weights|2023-03-30|\n",
      "+-----------+-------+----------+\n",
      "only showing top 10 rows\n",
      "\n"
     ]
    },
    {
     "name": "stderr",
     "output_type": "stream",
     "text": [
      "\r",
      "                                                                                \r"
     ]
    }
   ],
   "source": [
    "orders.show(10)"
   ]
  },
  {
   "cell_type": "code",
   "execution_count": 5,
   "id": "e324679f",
   "metadata": {},
   "outputs": [
    {
     "name": "stdout",
     "output_type": "stream",
     "text": [
      "+------+-------------+-------+--------------------+------+--------------------+------------------+------------------+-------------------------+\n",
      "|    id|Date of Birth|country|             address|gender|credit_card_provider|credit_card_number|credit_card_expire|credit_card_security_code|\n",
      "+------+-------------+-------+--------------------+------+--------------------+------------------+------------------+-------------------------+\n",
      "|297189|   1985-12-03|     UK|31655 Caleb Walk\\...|     F|       VISA 16 digit|    30480338025065|             05/25|                      621|\n",
      "|606033|   1998-10-09|    FRA|50901 Kyle Crossr...|     F|       VISA 16 digit|  4859114084261596|             01/25|                      463|\n",
      "|161625|   1972-10-04|     CH|6414 Dougherty Ov...|     M|    American Express|  3517011750725845|             03/25|                      260|\n",
      "|278521|   1990-07-29|     CH|604 Cole Track\\nL...|     M|       VISA 19 digit|  4390619341561154|             05/31|                      635|\n",
      "|240807|   1976-01-29|     CH|857 Stephen Ways ...|     M|       VISA 16 digit|    30425919936883|             09/32|                      169|\n",
      "+------+-------------+-------+--------------------+------+--------------------+------------------+------------------+-------------------------+\n",
      "only showing top 5 rows\n",
      "\n"
     ]
    }
   ],
   "source": [
    "customers.show(5)"
   ]
  },
  {
   "cell_type": "code",
   "execution_count": 6,
   "id": "58060dad",
   "metadata": {},
   "outputs": [
    {
     "name": "stdout",
     "output_type": "stream",
     "text": [
      "+------+-----+--------------------+-------------+--------------+------------------+\n",
      "|  item|price|         description|discount_flag|last_day_sales|    last_day_score|\n",
      "+------+-----+--------------------+-------------+--------------+------------------+\n",
      "| chair|   16|Memory without li...|            Y|           452|2.9942648454315397|\n",
      "|   car|   24|Those hour loss o...|            Y|           379|2.3326004004187446|\n",
      "|   toy|   42|State perhaps far...|            N|           642| 3.541021170769279|\n",
      "|laptop|   10|Floor half inform...|            N|           514| 2.946138887355685|\n",
      "|   box|   25|Sing represent it...|            N|           325|2.9832246550925223|\n",
      "+------+-----+--------------------+-------------+--------------+------------------+\n",
      "only showing top 5 rows\n",
      "\n"
     ]
    }
   ],
   "source": [
    "items.show(5)"
   ]
  },
  {
   "cell_type": "code",
   "execution_count": 7,
   "id": "2ad8394a",
   "metadata": {},
   "outputs": [
    {
     "name": "stdout",
     "output_type": "stream",
     "text": [
      "root\n",
      " |-- customer_id: string (nullable = true)\n",
      " |-- item: string (nullable = true)\n",
      " |-- created_at: string (nullable = true)\n",
      "\n"
     ]
    }
   ],
   "source": [
    "orders.printSchema()"
   ]
  },
  {
   "cell_type": "code",
   "execution_count": 8,
   "id": "cb8dbb46",
   "metadata": {},
   "outputs": [
    {
     "name": "stdout",
     "output_type": "stream",
     "text": [
      "root\n",
      " |-- id: string (nullable = true)\n",
      " |-- Date of Birth: string (nullable = true)\n",
      " |-- country: string (nullable = true)\n",
      " |-- address: string (nullable = true)\n",
      " |-- gender: string (nullable = true)\n",
      " |-- credit_card_provider: string (nullable = true)\n",
      " |-- credit_card_number: string (nullable = true)\n",
      " |-- credit_card_expire: string (nullable = true)\n",
      " |-- credit_card_security_code: string (nullable = true)\n",
      "\n"
     ]
    }
   ],
   "source": [
    "customers.printSchema()"
   ]
  },
  {
   "cell_type": "code",
   "execution_count": 9,
   "id": "0e3c0942",
   "metadata": {},
   "outputs": [
    {
     "name": "stdout",
     "output_type": "stream",
     "text": [
      "root\n",
      " |-- item: string (nullable = true)\n",
      " |-- price: string (nullable = true)\n",
      " |-- description: string (nullable = true)\n",
      " |-- discount_flag: string (nullable = true)\n",
      " |-- last_day_sales: string (nullable = true)\n",
      " |-- last_day_score: string (nullable = true)\n",
      "\n"
     ]
    }
   ],
   "source": [
    "items.printSchema()"
   ]
  },
  {
   "cell_type": "code",
   "execution_count": 10,
   "id": "9493a2d1",
   "metadata": {},
   "outputs": [
    {
     "name": "stdout",
     "output_type": "stream",
     "text": [
      "root\n",
      " |-- item: string (nullable = true)\n",
      " |-- price: integer (nullable = true)\n",
      " |-- description: string (nullable = true)\n",
      " |-- discount_flag: string (nullable = true)\n",
      " |-- last_day_sales: string (nullable = true)\n",
      " |-- last_day_score: double (nullable = true)\n",
      "\n"
     ]
    }
   ],
   "source": [
    "# adjust the items schema.\n",
    "# first remove last_day_sales column as it is incorrect information.\n",
    "# replace this by the number of orders created in orders dataframe.\n",
    "# create unique identifier for each item.\n",
    "pre_items = items.withColumn(\"item\", items['item'].cast(StringType())) \\\n",
    "                 .withColumn(\"price\", items['price'].cast(IntegerType())) \\\n",
    "                 .withColumn(\"description\", items['description'].cast(StringType())) \\\n",
    "                 .withColumn(\"discount_flag\", items['discount_flag'].cast(StringType())) \\\n",
    "                 .withColumn(\"last_day_score\", items['last_day_score'].cast(DoubleType()))\n",
    "pre_items.printSchema()"
   ]
  },
  {
   "cell_type": "code",
   "execution_count": 13,
   "id": "5b83529e",
   "metadata": {},
   "outputs": [
    {
     "name": "stdout",
     "output_type": "stream",
     "text": [
      "root\n",
      " |-- customer_id: integer (nullable = true)\n",
      " |-- item: string (nullable = true)\n",
      " |-- created_at: date (nullable = true)\n",
      "\n"
     ]
    }
   ],
   "source": [
    "pre_orders = orders.withColumn(\"customer_id\", orders['customer_id'].cast(IntegerType())) \\\n",
    "                   .withColumn(\"item\", orders['item'].cast(StringType())) \\\n",
    "                   .withColumn(\"created_at\", orders['created_at'].cast(DateType()))\n",
    "pre_orders.printSchema()"
   ]
  },
  {
   "cell_type": "code",
   "execution_count": 14,
   "id": "b43c8cce",
   "metadata": {},
   "outputs": [
    {
     "name": "stdout",
     "output_type": "stream",
     "text": [
      "+-----------+-------+----------+\n",
      "|customer_id|   item|created_at|\n",
      "+-----------+-------+----------+\n",
      "|     422152|weights|2023-03-31|\n",
      "|     514911|   bags|2023-03-30|\n",
      "|     469441| laptop|2023-03-30|\n",
      "|     110382| laptop|2023-03-30|\n",
      "|     246744|   food|2023-03-30|\n",
      "|     845726|weights|2023-03-30|\n",
      "|     431718|   bags|2023-03-30|\n",
      "|     561885|  chair|2023-03-31|\n",
      "|     402350| laptop|2023-03-31|\n",
      "|     537215|weights|2023-03-30|\n",
      "+-----------+-------+----------+\n",
      "only showing top 10 rows\n",
      "\n"
     ]
    }
   ],
   "source": [
    "pre_orders.show(10)"
   ]
  },
  {
   "cell_type": "code",
   "execution_count": 24,
   "id": "4b648ac3",
   "metadata": {},
   "outputs": [
    {
     "name": "stdout",
     "output_type": "stream",
     "text": [
      "root\n",
      " |-- id: integer (nullable = true)\n",
      " |-- date_of_birth: date (nullable = true)\n",
      " |-- country: string (nullable = true)\n",
      " |-- address: string (nullable = true)\n",
      " |-- gender: string (nullable = true)\n",
      " |-- credit_card_provider: string (nullable = true)\n",
      " |-- credit_card_number: string (nullable = true)\n",
      " |-- credit_card_expire: string (nullable = true)\n",
      " |-- credit_card_security_code: integer (nullable = true)\n",
      "\n"
     ]
    }
   ],
   "source": [
    "pre_customers = customers.withColumn(\"id\", customers['id'].cast(IntegerType())) \\\n",
    "                         .withColumn(\"Date of Birth\", customers['Date of Birth'].cast(DateType())) \\\n",
    "                         .withColumn(\"country\", customers['country'].cast(StringType())) \\\n",
    "                         .withColumn(\"address\", customers['address'].cast(StringType())) \\\n",
    "                         .withColumn(\"gender\", customers['gender'].cast(StringType())) \\\n",
    "                         .withColumn(\"credit_card_provider\", customers['credit_card_provider'].cast(StringType())) \\\n",
    "                         .withColumn(\"credit_card_number\", customers['credit_card_number'].cast(StringType())) \\\n",
    "                         .withColumn(\"credit_card_expire\", customers['credit_card_expire'].cast(StringType())) \\\n",
    "                         .withColumn(\"credit_card_security_code\", customers['credit_card_security_code'].cast(IntegerType())) \\\n",
    "                         .withColumnRenamed(\"Date of Birth\", \"date_of_birth\")\n",
    "pre_customers.printSchema()"
   ]
  },
  {
   "cell_type": "code",
   "execution_count": 25,
   "id": "f01de935",
   "metadata": {},
   "outputs": [
    {
     "name": "stdout",
     "output_type": "stream",
     "text": [
      "+------+-------------+-------+--------------------+------+--------------------+------------------+------------------+-------------------------+\n",
      "|    id|date_of_birth|country|             address|gender|credit_card_provider|credit_card_number|credit_card_expire|credit_card_security_code|\n",
      "+------+-------------+-------+--------------------+------+--------------------+------------------+------------------+-------------------------+\n",
      "|297189|   1985-12-03|     UK|31655 Caleb Walk\\...|     F|       VISA 16 digit|    30480338025065|             05/25|                      621|\n",
      "|606033|   1998-10-09|    FRA|50901 Kyle Crossr...|     F|       VISA 16 digit|  4859114084261596|             01/25|                      463|\n",
      "|161625|   1972-10-04|     CH|6414 Dougherty Ov...|     M|    American Express|  3517011750725845|             03/25|                      260|\n",
      "|278521|   1990-07-29|     CH|604 Cole Track\\nL...|     M|       VISA 19 digit|  4390619341561154|             05/31|                      635|\n",
      "|240807|   1976-01-29|     CH|857 Stephen Ways ...|     M|       VISA 16 digit|    30425919936883|             09/32|                      169|\n",
      "+------+-------------+-------+--------------------+------+--------------------+------------------+------------------+-------------------------+\n",
      "only showing top 5 rows\n",
      "\n"
     ]
    }
   ],
   "source": [
    "pre_customers.show(5)"
   ]
  },
  {
   "cell_type": "code",
   "execution_count": 18,
   "id": "7c3bbbe1",
   "metadata": {},
   "outputs": [],
   "source": [
    "# create a user defined function to create a unique code.\n",
    "def item_code(item):\n",
    "    code = \"\"\n",
    "    for idx, val in enumerate(item):\n",
    "        if idx == 0 or idx == len(item)-1:\n",
    "            code+=str(ord(val))\n",
    "        else:\n",
    "            code+=val\n",
    "    return code"
   ]
  },
  {
   "cell_type": "code",
   "execution_count": 19,
   "id": "00fb2547",
   "metadata": {},
   "outputs": [
    {
     "data": {
      "text/plain": [
       "'98o120'"
      ]
     },
     "execution_count": 19,
     "metadata": {},
     "output_type": "execute_result"
    }
   ],
   "source": [
    "item_code(\"box\")"
   ]
  },
  {
   "cell_type": "code",
   "execution_count": 20,
   "id": "7a8a3911",
   "metadata": {},
   "outputs": [
    {
     "name": "stderr",
     "output_type": "stream",
     "text": [
      "\r",
      "[Stage 10:>                                                         (0 + 1) / 1]\r"
     ]
    },
    {
     "name": "stdout",
     "output_type": "stream",
     "text": [
      "+-------+-----+--------------------+-------------+--------------+------------------+-----------+\n",
      "|   item|price|         description|discount_flag|last_day_sales|    last_day_score|        iid|\n",
      "+-------+-----+--------------------+-------------+--------------+------------------+-----------+\n",
      "|  chair|   16|Memory without li...|            Y|           452|2.9942648454315397|   99hai114|\n",
      "|    car|   24|Those hour loss o...|            Y|           379|2.3326004004187446|     99a114|\n",
      "|    toy|   42|State perhaps far...|            N|           642| 3.541021170769279|    116o121|\n",
      "| laptop|   10|Floor half inform...|            N|           514| 2.946138887355685| 108apto112|\n",
      "|    box|   25|Sing represent it...|            N|           325|2.9832246550925223|     98o120|\n",
      "|   food|   34|Child beat stage ...|            Y|           146| 2.096610210238468|   102oo100|\n",
      "|  shirt|   96|Central science r...|            N|           931|2.1078141466892495|  115hir116|\n",
      "|weights|   26|Service near red ...|            Y|           705|2.2568955898814425|119eight115|\n",
      "|   bags|   66|Lot take televisi...|            N|           603| 3.417785172197314|    98ag115|\n",
      "|  carts|   11|Space political j...|            N|           107| 2.157749445844645|   99art115|\n",
      "+-------+-----+--------------------+-------------+--------------+------------------+-----------+\n",
      "\n"
     ]
    },
    {
     "name": "stderr",
     "output_type": "stream",
     "text": [
      "\r",
      "                                                                                \r"
     ]
    }
   ],
   "source": [
    "item_codes_maker = F.udf(item_code, returnType = StringType())\n",
    "pre_items = items.withColumn(\"iid\", item_codes_maker(items[\"item\"]))\n",
    "pre_items.show(10)"
   ]
  },
  {
   "cell_type": "code",
   "execution_count": 26,
   "id": "9350156c",
   "metadata": {},
   "outputs": [
    {
     "name": "stdout",
     "output_type": "stream",
     "text": [
      "+-----------+-----------+----------+\n",
      "|        iid|customer_id|created_at|\n",
      "+-----------+-----------+----------+\n",
      "|119eight115|     422152|2023-03-31|\n",
      "|    98ag115|     514911|2023-03-30|\n",
      "| 108apto112|     469441|2023-03-30|\n",
      "| 108apto112|     110382|2023-03-30|\n",
      "|   102oo100|     246744|2023-03-30|\n",
      "|119eight115|     845726|2023-03-30|\n",
      "|    98ag115|     431718|2023-03-30|\n",
      "|   99hai114|     561885|2023-03-31|\n",
      "| 108apto112|     402350|2023-03-31|\n",
      "|119eight115|     537215|2023-03-30|\n",
      "+-----------+-----------+----------+\n",
      "only showing top 10 rows\n",
      "\n"
     ]
    }
   ],
   "source": [
    "# replace the item name in orders by item id.\n",
    "pre_orders = pre_orders.join(pre_items, pre_orders[\"item\"] == pre_items[\"item\"], \"inner\") \\\n",
    "                       .select([\"iid\", \"customer_id\", \"created_at\"])\n",
    "pre_orders.show(10)"
   ]
  },
  {
   "cell_type": "code",
   "execution_count": null,
   "id": "b0efa1b1",
   "metadata": {},
   "outputs": [],
   "source": []
  }
 ],
 "metadata": {
  "kernelspec": {
   "display_name": "Python 3 (ipykernel)",
   "language": "python",
   "name": "python3"
  },
  "language_info": {
   "codemirror_mode": {
    "name": "ipython",
    "version": 3
   },
   "file_extension": ".py",
   "mimetype": "text/x-python",
   "name": "python",
   "nbconvert_exporter": "python",
   "pygments_lexer": "ipython3",
   "version": "3.10.9"
  }
 },
 "nbformat": 4,
 "nbformat_minor": 5
}
